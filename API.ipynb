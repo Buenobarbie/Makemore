{
 "cells": [
  {
   "cell_type": "code",
   "execution_count": 1,
   "metadata": {},
   "outputs": [
    {
     "name": "stderr",
     "output_type": "stream",
     "text": [
      "/home/barbara/.local/lib/python3.8/site-packages/tqdm/auto.py:21: TqdmWarning: IProgress not found. Please update jupyter and ipywidgets. See https://ipywidgets.readthedocs.io/en/stable/user_install.html\n",
      "  from .autonotebook import tqdm as notebook_tqdm\n"
     ]
    }
   ],
   "source": [
    "import torch\n",
    "import torch.nn.functional as F\n",
    "import matplotlib.pyplot as plt\n",
    "%matplotlib inline"
   ]
  },
  {
   "cell_type": "code",
   "execution_count": 2,
   "metadata": {},
   "outputs": [
    {
     "data": {
      "text/plain": [
       "['emma',\n",
       " 'olivia',\n",
       " 'ava',\n",
       " 'isabella',\n",
       " 'sophia',\n",
       " 'charlotte',\n",
       " 'mia',\n",
       " 'amelia',\n",
       " 'harper',\n",
       " 'evelyn']"
      ]
     },
     "execution_count": 2,
     "metadata": {},
     "output_type": "execute_result"
    }
   ],
   "source": [
    "words = open(\"names.txt\", 'r').read().splitlines()\n",
    "words[:10]"
   ]
  },
  {
   "cell_type": "code",
   "execution_count": 3,
   "metadata": {},
   "outputs": [],
   "source": [
    "# Vocabulary\n",
    "chars = [c for c in '.abcdefghijklmnopqrstuvwxyz']\n",
    "\n",
    "# Convertion between characters and integers\n",
    "itos = {i: c for i, c in enumerate(chars)}\n",
    "stoi = {c: i for i, c in enumerate(chars)}"
   ]
  },
  {
   "cell_type": "code",
   "execution_count": 4,
   "metadata": {},
   "outputs": [],
   "source": [
    "vocab_size = len(chars)\n",
    "block_size = 3\n",
    "n_hidden = 256\n",
    "n_emb = 10"
   ]
  },
  {
   "cell_type": "code",
   "execution_count": 5,
   "metadata": {},
   "outputs": [],
   "source": [
    "\n",
    "def build_dataset(names):\n",
    "    X, Y = [], []\n",
    "\n",
    "    for name in names:\n",
    "        c1 = [0] * block_size\n",
    "        for ch in name + '.':\n",
    "            X.append(c1)\n",
    "            Y.append(stoi[ch])\n",
    "            c1 = c1[1:] + [stoi[ch]]\n",
    "\n",
    "    X = torch.tensor(X)\n",
    "    Y = torch.tensor(Y)\n",
    "    print(X.shape, Y.shape)\n",
    "\n",
    "    return X, Y"
   ]
  },
  {
   "cell_type": "code",
   "execution_count": 6,
   "metadata": {},
   "outputs": [],
   "source": [
    "g = torch.Generator().manual_seed(42)"
   ]
  },
  {
   "cell_type": "code",
   "execution_count": 7,
   "metadata": {},
   "outputs": [],
   "source": [
    "class Linear:\n",
    "\n",
    "    def __init__(self, fan_in, fan_out, bias=True):\n",
    "        self.weights = torch.randn((fan_in, fan_out), generator = g) / fan_in**0.5\n",
    "        self.bias = torch.zeros(fan_out) if bias else None\n",
    "\n",
    "    def __call__(self, x):\n",
    "        self.out = x @ self.weights\n",
    "        if self.bias is not None:\n",
    "            self.out += self.bias\n",
    "        return self.out\n",
    "\n",
    "    def parameters(self):\n",
    "        return [self.weights] + ([] if self.bias is None else [self.bias])"
   ]
  },
  {
   "cell_type": "markdown",
   "metadata": {},
   "source": [
    "Great video about normalizations: https://www.youtube.com/watch?v=sxEqtjLC0aM"
   ]
  },
  {
   "cell_type": "code",
   "execution_count": 8,
   "metadata": {},
   "outputs": [],
   "source": [
    "\n",
    "class BatchNorm:\n",
    "\n",
    "    def __init__(self, dim, eps=1e-5, momentum=0.1):\n",
    "        self.eps = eps\n",
    "        self.momentum = momentum\n",
    "        self.training = True # True for training, False for evaluation\n",
    "\n",
    "        # parameters\n",
    "        self.gamma = torch.ones(dim)  # bn weight\n",
    "        self.beta = torch.zeros(dim)  # bn bias\n",
    "\n",
    "        # buffers (trained with a momentum update / not part of the backpropagation update)\n",
    "        self.running_mean = torch.zeros(dim)\n",
    "        self.running_var = torch.ones(dim)\n",
    "\n",
    "\n",
    "    def __call__(self, x):\n",
    "        if self.training:\n",
    "            x_mean = x.mean(0, keepdim=True)\n",
    "            x_var = x.var(0, keepdim=True)\n",
    "        else:\n",
    "            x_mean = self.running_mean\n",
    "            x_var = self.running_var\n",
    "        x_hidden_act = (x - x_mean) / torch.sqrt(x_var + self.eps) \n",
    "        self.out = self.gamma * x_hidden_act + self.beta\n",
    "\n",
    "        # update running buffers\n",
    "        if self.training:\n",
    "            self.running_mean = (1 - self.momentum) * self.running_mean + self.momentum * x_mean\n",
    "            self.running_var = (1 - self.momentum) * self.running_var + self.momentum * x_var\n",
    "\n",
    "        return self.out\n",
    "\n",
    "    def parameters(self):\n",
    "        return [self.gamma, self.beta]\n",
    "            \n"
   ]
  },
  {
   "cell_type": "code",
   "execution_count": 9,
   "metadata": {},
   "outputs": [],
   "source": [
    "class Tanh:\n",
    "    def __call__(self, x):\n",
    "        self.out = torch.tanh(x)\n",
    "        return self.out\n",
    "\n",
    "    def parameters(self):\n",
    "        return []"
   ]
  },
  {
   "cell_type": "code",
   "execution_count": 10,
   "metadata": {},
   "outputs": [],
   "source": [
    "class Embedding:\n",
    "    def __init__(self, num_embeddings, embedding_dim):\n",
    "        self.weight = torch.randn(num_embeddings, embedding_dim, generator = g)\n",
    "    \n",
    "    def __call__(self, IX):\n",
    "        self.out = self.weight[IX]\n",
    "        return self.out \n",
    "\n",
    "    def parameters(self):\n",
    "        return [self.weight]\n",
    "    "
   ]
  },
  {
   "cell_type": "code",
   "execution_count": 11,
   "metadata": {},
   "outputs": [],
   "source": [
    "class Flatten:\n",
    "    def __call__(self,x):\n",
    "        self.out = x.view(x.size(0), -1)\n",
    "        return self.out\n",
    "\n",
    "    def parameters(self):\n",
    "        return []"
   ]
  },
  {
   "cell_type": "code",
   "execution_count": 12,
   "metadata": {},
   "outputs": [],
   "source": [
    "class Sequential:\n",
    "    def __init__(self, layers):\n",
    "        self.layers = layers\n",
    "    \n",
    "    def __call__(self, x):\n",
    "        for layer in self.layers:\n",
    "            x = layer(x)\n",
    "        self.out = x\n",
    "        return self.out\n",
    "    \n",
    "    def parameters(self):\n",
    "        return [p for layer in self.layers for p in layer.parameters()]"
   ]
  },
  {
   "cell_type": "code",
   "execution_count": 13,
   "metadata": {},
   "outputs": [
    {
     "name": "stdout",
     "output_type": "stream",
     "text": [
      "15711\n"
     ]
    }
   ],
   "source": [
    "\n",
    "model = Sequential([\n",
    "    Embedding(vocab_size, n_emb),\n",
    "    Flatten(),\n",
    "    Linear(n_emb * block_size, n_hidden),  BatchNorm(n_hidden), Tanh(),\n",
    "    Linear(           n_hidden, vocab_size), BatchNorm(vocab_size)\n",
    "])\n",
    "\n",
    "with torch.no_grad():\n",
    "    # last layer: make less confident\n",
    "    model.layers[-1].gamma *= 0.1\n",
    "    # all other layers: apply gain\n",
    "    for layer in model.layers:\n",
    "        if isinstance(layer, Linear):\n",
    "            layer.weights *= 5/3\n",
    "\n",
    "parameters = model.parameters()\n",
    "print(sum(p.nelement() for p in parameters))\n",
    "for p in parameters:\n",
    "    p.requires_grad = True"
   ]
  },
  {
   "cell_type": "code",
   "execution_count": 14,
   "metadata": {},
   "outputs": [
    {
     "name": "stdout",
     "output_type": "stream",
     "text": [
      "torch.Size([182625, 3]) torch.Size([182625])\n",
      "torch.Size([22655, 3]) torch.Size([22655])\n",
      "torch.Size([22866, 3]) torch.Size([22866])\n"
     ]
    }
   ],
   "source": [
    "import random\n",
    "random.seed(42)\n",
    "random.shuffle(words)\n",
    "n1 = int(0.8*len(words))\n",
    "n2 = int(0.9*len(words))\n",
    "Xtr, Ytr = build_dataset(words[:n1])\n",
    "Xdev, Ydev = build_dataset(words[n1:n2])\n",
    "Xte, Yte = build_dataset(words[n2:])"
   ]
  },
  {
   "cell_type": "code",
   "execution_count": 15,
   "metadata": {},
   "outputs": [
    {
     "name": "stdout",
     "output_type": "stream",
     "text": [
      "0.0% complete - loss: 3.311657428741455\n",
      "5.0% complete - loss: 2.346292018890381\n",
      "10.0% complete - loss: 2.007478713989258\n",
      "15.0% complete - loss: 2.3982999324798584\n",
      "20.0% complete - loss: 2.2474448680877686\n",
      "25.0% complete - loss: 2.0434794425964355\n",
      "30.0% complete - loss: 1.954896092414856\n",
      "35.0% complete - loss: 2.2078568935394287\n",
      "40.0% complete - loss: 1.91230309009552\n",
      "45.0% complete - loss: 2.2217752933502197\n",
      "50.0% complete - loss: 2.0646772384643555\n",
      "55.0% complete - loss: 2.327465295791626\n",
      "60.0% complete - loss: 2.065821409225464\n",
      "65.0% complete - loss: 2.2133302688598633\n",
      "70.0% complete - loss: 2.122905731201172\n",
      "75.0% complete - loss: 2.040889263153076\n",
      "80.0% complete - loss: 2.188026189804077\n",
      "85.0% complete - loss: 2.5992331504821777\n",
      "90.0% complete - loss: 2.036402940750122\n",
      "95.0% complete - loss: 2.0056843757629395\n"
     ]
    }
   ],
   "source": [
    "max_steps = 200000\n",
    "batch_size = 32\n",
    "losses = []\n",
    "\n",
    "for layer in model.layers:\n",
    "    layer.training = True\n",
    "\n",
    "for i in range(max_steps):\n",
    "\n",
    "    # minibatch construct\n",
    "    ix = torch.randint(0, Xtr.shape[0], (batch_size, ), generator=g)\n",
    "    Xb, Yb = Xtr[ix], Ytr[ix]\n",
    "\n",
    "    # forward passs\n",
    "    logits = model(Xb)\n",
    "    loss = F.cross_entropy(logits, Yb)\n",
    "\n",
    "    # backward pass\n",
    "    for p in parameters:\n",
    "        p.grad = None\n",
    "    loss.backward()\n",
    "\n",
    "    # update\n",
    "    lr = 0.1 if i < 100000 else 0.01\n",
    "    for p in parameters:\n",
    "        p.data += -lr * p.grad\n",
    "    \n",
    "    \n",
    "    if(i % (max_steps//20) == 0):\n",
    "        print(f\"{i/max_steps*100:3.3}% complete - loss: {loss.item()}\")\n",
    "    losses.append(loss.log10().item())\n",
    "    \n",
    "    "
   ]
  },
  {
   "cell_type": "code",
   "execution_count": 16,
   "metadata": {},
   "outputs": [
    {
     "data": {
      "text/plain": [
       "[<matplotlib.lines.Line2D at 0x7fbb40d10040>]"
      ]
     },
     "execution_count": 16,
     "metadata": {},
     "output_type": "execute_result"
    },
    {
     "data": {
      "image/png": "[encoded data removed]",
      "text/plain": [
       "<Figure size 640x480 with 1 Axes>"
      ]
     },
     "metadata": {},
     "output_type": "display_data"
    }
   ],
   "source": [
    "plt.plot(torch.tensor(losses).view(-1,100).mean(1))"
   ]
  },
  {
   "cell_type": "markdown",
   "metadata": {},
   "source": [
    "## Evaluate the model"
   ]
  },
  {
   "cell_type": "code",
   "execution_count": 17,
   "metadata": {},
   "outputs": [
    {
     "name": "stdout",
     "output_type": "stream",
     "text": [
      "train 2.0557291507720947\n",
      "val 2.104560136795044\n"
     ]
    }
   ],
   "source": [
    "@torch.no_grad()\n",
    "def split_loss(split):\n",
    "    for layer in model.layers:\n",
    "        layer.training = False\n",
    "    x, y = {\n",
    "        'train': (Xtr, Ytr),\n",
    "        'val': (Xdev, Ydev),\n",
    "        'test': (Xte, Yte)\n",
    "    }[split]\n",
    "    logits = model(x)\n",
    "    loss = F.cross_entropy(logits, y)\n",
    "    print(split, loss.item())\n",
    "\n",
    "split_loss('train')\n",
    "split_loss('val')"
   ]
  },
  {
   "cell_type": "markdown",
   "metadata": {},
   "source": [
    "# Sample the model"
   ]
  },
  {
   "cell_type": "code",
   "execution_count": 18,
   "metadata": {},
   "outputs": [
    {
     "name": "stdout",
     "output_type": "stream",
     "text": [
      "lousa\n",
      "mere\n",
      "ivirishannah\n",
      "los\n",
      "juliana\n",
      "cael\n",
      "brihadyn\n",
      "adali\n",
      "adde\n",
      "holnen\n",
      "ayanna\n",
      "britan\n",
      "ailah\n",
      "branakies\n",
      "cataleiya\n",
      "ashawn\n",
      "khan\n",
      "kaysen\n",
      "ken\n",
      "andtaliz\n"
     ]
    }
   ],
   "source": [
    "num_samples = 20\n",
    "\n",
    "for layer in model.layers:\n",
    "    layer.training = False\n",
    "    \n",
    "for _ in range(num_samples):\n",
    "    out = []\n",
    "    context = [0] * block_size\n",
    "    while True:\n",
    "        logits = model(torch.tensor([context]))\n",
    "        probs = F.softmax(logits, dim=1)\n",
    "        ix = torch.multinomial(probs, num_samples=1).item()\n",
    "        context = context[1:] + [ix]\n",
    "        out.append(ix)\n",
    "        if ix == 0:\n",
    "            break\n",
    "\n",
    "    print(''.join([itos[i] for i in out[:-1]]))"
   ]
  }
 ],
 "metadata": {
  "kernelspec": {
   "display_name": "Python 3",
   "language": "python",
   "name": "python3"
  },
  "language_info": {
   "codemirror_mode": {
    "name": "ipython",
    "version": 3
   },
   "file_extension": ".py",
   "mimetype": "text/x-python",
   "name": "python",
   "nbconvert_exporter": "python",
   "pygments_lexer": "ipython3",
   "version": "3.8.10"
  }
 },
 "nbformat": 4,
 "nbformat_minor": 2
}
