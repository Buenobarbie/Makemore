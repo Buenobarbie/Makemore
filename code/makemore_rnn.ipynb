{
 "cells": [
  {
   "cell_type": "code",
   "execution_count": 22,
   "metadata": {},
   "outputs": [],
   "source": [
    "import torch\n",
    "import torch.nn.functional as F\n",
    "import matplotlib.pyplot as plt\n",
    "%matplotlib inline"
   ]
  },
  {
   "cell_type": "code",
   "execution_count": 23,
   "metadata": {},
   "outputs": [],
   "source": [
    "# Animals names dataset\n",
    "\n",
    "# with open('../data/animals_names.txt', 'r') as file:\n",
    "#     data = file.read()\n",
    "\n",
    "# # Split the data into a list of names\n",
    "# words = [name.lower() for name in data.split(',')]\n",
    "\n",
    "# # Print the list to verify\n",
    "# print(words[:10])\n",
    "\n",
    "# for w in words:\n",
    "#     if \"'\" in w or \"-\" in w or \"(\" in w or \")\" in w:\n",
    "#         words.remove(w)"
   ]
  },
  {
   "cell_type": "code",
   "execution_count": 24,
   "metadata": {},
   "outputs": [],
   "source": [
    "# all_names_string = ''.join(words)\n",
    "\n",
    "# # Create a set of unique characters\n",
    "# unique_characters = set(all_names_string)\n",
    "\n",
    "# # Print the unique characters\n",
    "# print(unique_characters)"
   ]
  },
  {
   "cell_type": "code",
   "execution_count": 25,
   "metadata": {},
   "outputs": [
    {
     "data": {
      "text/plain": [
       "['emma',\n",
       " 'olivia',\n",
       " 'ava',\n",
       " 'isabella',\n",
       " 'sophia',\n",
       " 'charlotte',\n",
       " 'mia',\n",
       " 'amelia',\n",
       " 'harper',\n",
       " 'evelyn']"
      ]
     },
     "execution_count": 25,
     "metadata": {},
     "output_type": "execute_result"
    }
   ],
   "source": [
    "# People names dataset\n",
    "words = open(\"../data/names.txt\", 'r').read().splitlines()\n",
    "words[:10]"
   ]
  },
  {
   "cell_type": "code",
   "execution_count": 26,
   "metadata": {},
   "outputs": [],
   "source": [
    "# Vocabulary\n",
    "chars = [c for c in '.abcdefghijklmnopqrstuvwxyz']\n",
    "\n",
    "# Convertion between characters and integers\n",
    "itos = {i: c for i, c in enumerate(chars)}\n",
    "stoi = {c: i for i, c in enumerate(chars)}"
   ]
  },
  {
   "cell_type": "code",
   "execution_count": 27,
   "metadata": {},
   "outputs": [],
   "source": [
    "block_size = 3\n",
    "def build_dataset(names):\n",
    "    X, Y = [], []\n",
    "\n",
    "    for name in names:\n",
    "        c1 = [0] * block_size\n",
    "        for ch in name + '.':\n",
    "            X.append(c1)\n",
    "            Y.append(stoi[ch])\n",
    "            c1 = c1[1:] + [stoi[ch]]\n",
    "\n",
    "    X = torch.tensor(X)\n",
    "    Y = torch.tensor(Y)\n",
    "    print(X.shape, Y.shape)\n",
    "\n",
    "    return X, Y"
   ]
  },
  {
   "cell_type": "code",
   "execution_count": 28,
   "metadata": {},
   "outputs": [
    {
     "name": "stdout",
     "output_type": "stream",
     "text": [
      "torch.Size([182625, 3]) torch.Size([182625])\n",
      "torch.Size([22655, 3]) torch.Size([22655])\n",
      "torch.Size([22866, 3]) torch.Size([22866])\n"
     ]
    }
   ],
   "source": [
    "import random\n",
    "random.seed(42)\n",
    "random.shuffle(words)\n",
    "n1 = int(0.8*len(words))\n",
    "n2 = int(0.9*len(words))\n",
    "Xtr, Ytr = build_dataset(words[:n1])\n",
    "Xdev, Ydev = build_dataset(words[n1:n2])\n",
    "Xte, Yte = build_dataset(words[n2:])"
   ]
  },
  {
   "cell_type": "code",
   "execution_count": 63,
   "metadata": {},
   "outputs": [],
   "source": [
    "n_emb = 10 # dimension of embeddings\n",
    "n_hidden = 200 # number of neurons on the hidden layer\n",
    "vocab_size = len(chars) # size of the vocabulary\n",
    "\n",
    "g = torch.Generator().manual_seed(2147483647)\n",
    "C = torch.randn((vocab_size, n_emb),           generator=g)\n",
    "W1 = torch.randn((n_emb*block_size, n_hidden), generator=g) * (5/3) / (n_emb*block_size) **0.5\n",
    "# b1 = torch.randn((n_hidden),                   generator=g) * 0\n",
    "W2 = torch.randn((n_hidden, vocab_size),       generator=g) * 0.1\n",
    "b2 = torch.randn((vocab_size),                 generator=g) * 0\n",
    "\n",
    "# BatchNorm parameters\n",
    "bn_gain = torch.ones((1,n_hidden)) # batch normalization gain\n",
    "bn_bias = torch.zeros((1,n_hidden)) # batch normalization bias\n",
    "bn_mean_running = torch.zeros((1,n_hidden)) # running mean of the batch normalization\n",
    "bn_std_running = torch.ones((1,n_hidden)) # running standard deviation of the batch normalization\n",
    "\n",
    "parameters = [C, W1, W2, b2, bn_gain, bn_bias]"
   ]
  },
  {
   "cell_type": "markdown",
   "metadata": {},
   "source": [
    "W2 and b2 should be lower values so that the initial probabilities of each character in the vocab is equal, resulting in a lower initial loss"
   ]
  },
  {
   "cell_type": "markdown",
   "metadata": {},
   "source": [
    "W1 and b1 shoudl be lower so we dont get dead neurons due to tanh"
   ]
  },
  {
   "cell_type": "code",
   "execution_count": null,
   "metadata": {},
   "outputs": [],
   "source": []
  },
  {
   "cell_type": "code",
   "execution_count": 64,
   "metadata": {},
   "outputs": [
    {
     "name": "stdout",
     "output_type": "stream",
     "text": [
      "12097 parameters\n"
     ]
    }
   ],
   "source": [
    "# Number of parameters\n",
    "print(sum(p.numel() for p in parameters), \"parameters\")\n",
    "for p in parameters:\n",
    "    p.requires_grad = True"
   ]
  },
  {
   "cell_type": "code",
   "execution_count": 65,
   "metadata": {},
   "outputs": [
    {
     "ename": "KeyboardInterrupt",
     "evalue": "",
     "output_type": "error",
     "traceback": [
      "\u001b[0;31m---------------------------------------------------------------------------\u001b[0m",
      "\u001b[0;31mKeyboardInterrupt\u001b[0m                         Traceback (most recent call last)",
      "\u001b[1;32m/home/barbara/Documents/makemore/makemore_rnn.ipynb Cell 13\u001b[0m line \u001b[0;36m3\n\u001b[1;32m     <a href='vscode-notebook-cell:/home/barbara/Documents/makemore/makemore_rnn.ipynb#X13sZmlsZQ%3D%3D?line=30'>31</a>\u001b[0m lr \u001b[39m=\u001b[39m \u001b[39m0.1\u001b[39m \u001b[39mif\u001b[39;00m i \u001b[39m<\u001b[39m \u001b[39m100000\u001b[39m \u001b[39melse\u001b[39;00m \u001b[39m0.01\u001b[39m\n\u001b[1;32m     <a href='vscode-notebook-cell:/home/barbara/Documents/makemore/makemore_rnn.ipynb#X13sZmlsZQ%3D%3D?line=31'>32</a>\u001b[0m \u001b[39mfor\u001b[39;00m p \u001b[39min\u001b[39;00m parameters:\n\u001b[0;32m---> <a href='vscode-notebook-cell:/home/barbara/Documents/makemore/makemore_rnn.ipynb#X13sZmlsZQ%3D%3D?line=32'>33</a>\u001b[0m     p\u001b[39m.\u001b[39mdata \u001b[39m-\u001b[39m\u001b[39m=\u001b[39m p\u001b[39m.\u001b[39;49mgrad \u001b[39m*\u001b[39;49m lr\n\u001b[1;32m     <a href='vscode-notebook-cell:/home/barbara/Documents/makemore/makemore_rnn.ipynb#X13sZmlsZQ%3D%3D?line=34'>35</a>\u001b[0m losses\u001b[39m.\u001b[39mappend(loss\u001b[39m.\u001b[39mlog10()\u001b[39m.\u001b[39mitem())\n",
      "\u001b[0;31mKeyboardInterrupt\u001b[0m: "
     ]
    }
   ],
   "source": [
    "max_steps = 200000\n",
    "batch_size = 32\n",
    "losses = []\n",
    "\n",
    "for i in range(max_steps):    \n",
    "    \n",
    "    #mini batch construct\n",
    "    ix = torch.randint(0, Xtr.shape[0], (batch_size,))\n",
    "    Xb, Yb = Xtr[ix], Ytr[ix] # batch X, Y\n",
    "\n",
    "    #Forward pass\n",
    "    emb = C[Xb]\n",
    "\n",
    "    # Linear Layer\n",
    "    h_preact = emb.view(emb.shape[0], -1) @ W1 #+ b1  b1 is useless when you apply batch normalization\n",
    "\n",
    "    # BactchNorm Layer\n",
    "    bn_mean_i = h_preact.mean(0, keepdim=True)\n",
    "    bn_std_i = h_preact.std(0, keepdim=True)\n",
    "    h_preact = bn_gain*(h_preact - bn_mean_i) / bn_std_i + bn_bias\n",
    "\n",
    "    with torch.no_grad():\n",
    "        bn_mean_running = 0.999 * bn_mean_running + 0.001 * bn_mean_i\n",
    "        bn_std_running = 0.999 * bn_std_running + 0.001 * bn_std_i\n",
    "\n",
    "\n",
    "    # Non linearity\n",
    "    hidden_state = torch.tanh(h_preact)\n",
    "    logits = hidden_state @ W2 + b2\n",
    "    loss = F.cross_entropy(logits, Yb)\n",
    "\n",
    "    # Backward pass\n",
    "    for p in parameters:\n",
    "        p.grad = None\n",
    "    loss.backward()\n",
    "\n",
    "    #update\n",
    "    lr = 0.1 if i < 100000 else 0.01\n",
    "    for p in parameters:\n",
    "        p.data -= p.grad * lr\n",
    "\n",
    "    losses.append(loss.log10().item())\n"
   ]
  },
  {
   "cell_type": "code",
   "execution_count": 51,
   "metadata": {},
   "outputs": [],
   "source": [
    "# calibrate the batch norm at the end of training\n",
    "with torch.no_grad():\n",
    "    emb = C[Xtr]\n",
    "    embcat = emb.view(emb.shape[0], -1)\n",
    "    h_preact = embcat @ W1 + b1\n",
    "    bn_mean = h_preact.mean(0, keepdim=True)\n",
    "    bn_std = h_preact.std(0, keepdim=True)"
   ]
  },
  {
   "cell_type": "markdown",
   "metadata": {},
   "source": [
    "### Analyzing activations"
   ]
  },
  {
   "cell_type": "code",
   "execution_count": 32,
   "metadata": {},
   "outputs": [
    {
     "data": {
      "text/plain": [
       "(array([1189.,  265.,  186.,  129.,  118.,   92.,   90.,   75.,   66.,\n",
       "          65.,   73.,   47.,   62.,   63.,   45.,   59.,   56.,   52.,\n",
       "          47.,   54.,   41.,   50.,   59.,   55.,   59.,   73.,   59.,\n",
       "          60.,   70.,   62.,   53.,   46.,   65.,   47.,   40.,   44.,\n",
       "          50.,   56.,   70.,   64.,   66.,   81.,   76.,   88.,   90.,\n",
       "         101.,  131.,  180.,  275., 1356.]),\n",
       " array([-1.  , -0.96, -0.92, -0.88, -0.84, -0.8 , -0.76, -0.72, -0.68,\n",
       "        -0.64, -0.6 , -0.56, -0.52, -0.48, -0.44, -0.4 , -0.36, -0.32,\n",
       "        -0.28, -0.24, -0.2 , -0.16, -0.12, -0.08, -0.04,  0.  ,  0.04,\n",
       "         0.08,  0.12,  0.16,  0.2 ,  0.24,  0.28,  0.32,  0.36,  0.4 ,\n",
       "         0.44,  0.48,  0.52,  0.56,  0.6 ,  0.64,  0.68,  0.72,  0.76,\n",
       "         0.8 ,  0.84,  0.88,  0.92,  0.96,  1.  ]),\n",
       " <a list of 50 Patch objects>)"
      ]
     },
     "execution_count": 32,
     "metadata": {},
     "output_type": "execute_result"
    },
    {
     "data": {
      "image/png": "[encoded data removed]",
      "text/plain": [
       "<Figure size 640x480 with 1 Axes>"
      ]
     },
     "metadata": {},
     "output_type": "display_data"
    }
   ],
   "source": [
    "plt.hist(hidden_state.view(-1).tolist(), 50)"
   ]
  },
  {
   "cell_type": "markdown",
   "metadata": {},
   "source": [
    "if the neurons have activations of -1 and 1 they will hardly have their gradients updated, because of the way backpropgation is calculated in tanh"
   ]
  },
  {
   "cell_type": "code",
   "execution_count": 33,
   "metadata": {},
   "outputs": [
    {
     "data": {
      "text/plain": [
       "<matplotlib.image.AxesImage at 0x7fecdd0181c0>"
      ]
     },
     "execution_count": 33,
     "metadata": {},
     "output_type": "execute_result"
    },
    {
     "data": {
      "image/png": "[encoded data removed]",
      "text/plain": [
       "<Figure size 2000x500 with 1 Axes>"
      ]
     },
     "metadata": {},
     "output_type": "display_data"
    }
   ],
   "source": [
    "# If a column is all white it means a dead neuron\n",
    "plt.figure(figsize=(20, 5))\n",
    "plt.imshow(hidden_state.abs() > 0.99, cmap='gray', interpolation='nearest')"
   ]
  },
  {
   "cell_type": "code",
   "execution_count": 34,
   "metadata": {},
   "outputs": [
    {
     "data": {
      "text/plain": [
       "[<matplotlib.lines.Line2D at 0x7fecd432ba60>]"
      ]
     },
     "execution_count": 34,
     "metadata": {},
     "output_type": "execute_result"
    },
    {
     "data": {
      "image/png": "[encoded data removed]",
      "text/plain": [
       "<Figure size 640x480 with 1 Axes>"
      ]
     },
     "metadata": {},
     "output_type": "display_data"
    }
   ],
   "source": [
    "plt.plot(losses)"
   ]
  },
  {
   "cell_type": "code",
   "execution_count": 58,
   "metadata": {},
   "outputs": [
    {
     "name": "stdout",
     "output_type": "stream",
     "text": [
      "train loss: 2.0691773891448975\n",
      "dev loss: 2.1074821949005127\n"
     ]
    }
   ],
   "source": [
    "# Calculate loss on validation set\n",
    "@torch.no_grad()\n",
    "def split_loss(split):\n",
    "    x,y = {\n",
    "        'train': (Xtr, Ytr),\n",
    "        'dev': (Xdev, Ydev),\n",
    "        'test': (Xte, Yte)\n",
    "    }[split]\n",
    "    emb = C[x]\n",
    "    h_preact = emb.view(emb.shape[0], -1) @ W1 #+ b1\n",
    "    # h_preact = bn_gain*(h_preact - h_preact.mean(0, keepdim=True)) / h_preact.std(0, keepdim=True) + bn_bias\n",
    "    h_preact = bn_gain*(h_preact - bn_mean_running) / bn_std_running + bn_bias\n",
    "\n",
    "    hidden_state = torch.tanh(h_preact)\n",
    "    logits = hidden_state @ W2 + b2\n",
    "    loss = F.cross_entropy(logits, y)\n",
    "    print(f'{split} loss: {loss.item()}')\n",
    "\n",
    "split_loss('train')\n",
    "split_loss('dev')"
   ]
  },
  {
   "cell_type": "code",
   "execution_count": 59,
   "metadata": {},
   "outputs": [
    {
     "name": "stdout",
     "output_type": "stream",
     "text": [
      "mowyn\n",
      "cha\n",
      "cresharlettarvikton\n",
      "maierenessacelen\n",
      "revoni\n",
      "wellisamina\n",
      "sey\n",
      "trhelif\n",
      "tigden\n",
      "ansh\n",
      "emeliyan\n",
      "zuxiah\n",
      "angeyosezadriel\n",
      "han\n",
      "evious\n"
     ]
    }
   ],
   "source": [
    "g = torch.Generator().manual_seed(14)\n",
    "\n",
    "for _ in range(15):\n",
    "    out = []\n",
    "    context = [0] * block_size\n",
    "    while True:\n",
    "        emb = C[torch.tensor([context])]\n",
    "        h_preact = emb.view(emb.shape[0], -1) @ W1 #+ b1\n",
    "        h_preact = bn_gain*(h_preact - bn_mean) / bn_std + bn_bias\n",
    "\n",
    "        h = torch.tanh(h_preact)\n",
    "        logits = h @ W2 + b2\n",
    "        probs = F.softmax(logits, 1)\n",
    "        ix = torch.multinomial(probs, 1, generator=g).item()\n",
    "        context = context[1:] + [ix]\n",
    "        out.append(ix)\n",
    "        if ix == 0:\n",
    "            break\n",
    "    \n",
    "    print(''.join([itos[i] for i in out[:-1]]))"
   ]
  }
 ],
 "metadata": {
  "kernelspec": {
   "display_name": "Python 3",
   "language": "python",
   "name": "python3"
  },
  "language_info": {
   "codemirror_mode": {
    "name": "ipython",
    "version": 3
   },
   "file_extension": ".py",
   "mimetype": "text/x-python",
   "name": "python",
   "nbconvert_exporter": "python",
   "pygments_lexer": "ipython3",
   "version": "3.8.10"
  }
 },
 "nbformat": 4,
 "nbformat_minor": 2
}
